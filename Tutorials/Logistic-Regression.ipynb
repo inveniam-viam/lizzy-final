{
 "cells": [
  {
   "cell_type": "code",
   "execution_count": 28,
   "id": "0a06db6c",
   "metadata": {},
   "outputs": [],
   "source": [
    "import pandas as pd\n",
    "import numpy as np\n",
    "import matplotlib.pyplot as plt"
   ]
  },
  {
   "cell_type": "code",
   "execution_count": 2,
   "id": "98035d05",
   "metadata": {},
   "outputs": [
    {
     "name": "stdout",
     "output_type": "stream",
     "text": [
      "total 56\r\n",
      "-rw-r--r--  1 jarwind  staff     72 Dec  2 21:36 Logistic-Regression.ipynb\r\n",
      "-rw-r--r--  1 jarwind  staff  23873 Dec  2 21:36 diabetes.csv\r\n"
     ]
    }
   ],
   "source": [
    "! ls -l"
   ]
  },
  {
   "cell_type": "code",
   "execution_count": 3,
   "id": "784db5dc",
   "metadata": {},
   "outputs": [],
   "source": [
    "col_names = ['pregnant', 'glucose', 'bp', 'skin', 'insulin', 'bmi', 'pedigree', 'age', 'label']"
   ]
  },
  {
   "cell_type": "code",
   "execution_count": 8,
   "id": "8c0c8527",
   "metadata": {},
   "outputs": [],
   "source": [
    "pima = pd.read_csv('diabetes.csv')"
   ]
  },
  {
   "cell_type": "code",
   "execution_count": 10,
   "id": "400335fc",
   "metadata": {},
   "outputs": [],
   "source": [
    "pima.columns= col_names"
   ]
  },
  {
   "cell_type": "code",
   "execution_count": 11,
   "id": "4e77dc10",
   "metadata": {},
   "outputs": [
    {
     "data": {
      "text/html": [
       "<div>\n",
       "<style scoped>\n",
       "    .dataframe tbody tr th:only-of-type {\n",
       "        vertical-align: middle;\n",
       "    }\n",
       "\n",
       "    .dataframe tbody tr th {\n",
       "        vertical-align: top;\n",
       "    }\n",
       "\n",
       "    .dataframe thead th {\n",
       "        text-align: right;\n",
       "    }\n",
       "</style>\n",
       "<table border=\"1\" class=\"dataframe\">\n",
       "  <thead>\n",
       "    <tr style=\"text-align: right;\">\n",
       "      <th></th>\n",
       "      <th>pregnant</th>\n",
       "      <th>glucose</th>\n",
       "      <th>bp</th>\n",
       "      <th>skin</th>\n",
       "      <th>insulin</th>\n",
       "      <th>bmi</th>\n",
       "      <th>pedigree</th>\n",
       "      <th>age</th>\n",
       "      <th>label</th>\n",
       "    </tr>\n",
       "  </thead>\n",
       "  <tbody>\n",
       "    <tr>\n",
       "      <th>0</th>\n",
       "      <td>6</td>\n",
       "      <td>148</td>\n",
       "      <td>72</td>\n",
       "      <td>35</td>\n",
       "      <td>0</td>\n",
       "      <td>33.6</td>\n",
       "      <td>0.627</td>\n",
       "      <td>50</td>\n",
       "      <td>1</td>\n",
       "    </tr>\n",
       "    <tr>\n",
       "      <th>1</th>\n",
       "      <td>1</td>\n",
       "      <td>85</td>\n",
       "      <td>66</td>\n",
       "      <td>29</td>\n",
       "      <td>0</td>\n",
       "      <td>26.6</td>\n",
       "      <td>0.351</td>\n",
       "      <td>31</td>\n",
       "      <td>0</td>\n",
       "    </tr>\n",
       "    <tr>\n",
       "      <th>2</th>\n",
       "      <td>8</td>\n",
       "      <td>183</td>\n",
       "      <td>64</td>\n",
       "      <td>0</td>\n",
       "      <td>0</td>\n",
       "      <td>23.3</td>\n",
       "      <td>0.672</td>\n",
       "      <td>32</td>\n",
       "      <td>1</td>\n",
       "    </tr>\n",
       "  </tbody>\n",
       "</table>\n",
       "</div>"
      ],
      "text/plain": [
       "   pregnant  glucose  bp  skin  insulin   bmi  pedigree  age  label\n",
       "0         6      148  72    35        0  33.6     0.627   50      1\n",
       "1         1       85  66    29        0  26.6     0.351   31      0\n",
       "2         8      183  64     0        0  23.3     0.672   32      1"
      ]
     },
     "execution_count": 11,
     "metadata": {},
     "output_type": "execute_result"
    }
   ],
   "source": [
    "pima.head(3)"
   ]
  },
  {
   "cell_type": "code",
   "execution_count": 12,
   "id": "5ddf251c",
   "metadata": {},
   "outputs": [],
   "source": [
    "# predictors - target specification\n",
    "\n",
    "features = ['pregnant', 'insulin', 'bmi', 'age', 'glucose', 'bp', 'pedigree']"
   ]
  },
  {
   "cell_type": "code",
   "execution_count": 13,
   "id": "70b7996d",
   "metadata": {},
   "outputs": [],
   "source": [
    "X = pima[features] # predictors"
   ]
  },
  {
   "cell_type": "code",
   "execution_count": 14,
   "id": "cd431b16",
   "metadata": {},
   "outputs": [],
   "source": [
    "Y = pima['label'] # target"
   ]
  },
  {
   "cell_type": "code",
   "execution_count": 15,
   "id": "0e223689",
   "metadata": {},
   "outputs": [],
   "source": [
    "# performing train-test split\n",
    "\n",
    "from sklearn.model_selection import train_test_split\n",
    "\n",
    "X_train, X_test, Y_train, Y_test = train_test_split(X, Y, test_size = 0.75, random_state = 16)"
   ]
  },
  {
   "cell_type": "code",
   "execution_count": 16,
   "id": "79c9397d",
   "metadata": {},
   "outputs": [
    {
     "name": "stderr",
     "output_type": "stream",
     "text": [
      "/Users/jarwind/Library/Python/3.9/lib/python/site-packages/sklearn/linear_model/_logistic.py:458: ConvergenceWarning: lbfgs failed to converge (status=1):\n",
      "STOP: TOTAL NO. of ITERATIONS REACHED LIMIT.\n",
      "\n",
      "Increase the number of iterations (max_iter) or scale the data as shown in:\n",
      "    https://scikit-learn.org/stable/modules/preprocessing.html\n",
      "Please also refer to the documentation for alternative solver options:\n",
      "    https://scikit-learn.org/stable/modules/linear_model.html#logistic-regression\n",
      "  n_iter_i = _check_optimize_result(\n"
     ]
    }
   ],
   "source": [
    "# developing logistic regression model\n",
    "\n",
    "from sklearn.linear_model import LogisticRegression\n",
    "\n",
    "logreg = LogisticRegression(random_state = 16)\n",
    "\n",
    "# fitting the model on our data\n",
    "\n",
    "logreg.fit(X_train, Y_train)\n",
    "\n",
    "# performing prediction on test set using predict()\n",
    "\n",
    "Y_pred = logreg.predict(X_test)"
   ]
  },
  {
   "cell_type": "code",
   "execution_count": 17,
   "id": "bc30ee6a",
   "metadata": {},
   "outputs": [],
   "source": [
    "from sklearn import metrics"
   ]
  },
  {
   "cell_type": "code",
   "execution_count": 20,
   "id": "984a7248",
   "metadata": {},
   "outputs": [],
   "source": [
    "cnf_matrix = metrics.confusion_matrix(Y_test, Y_pred)"
   ]
  },
  {
   "cell_type": "code",
   "execution_count": 21,
   "id": "c5bda9be",
   "metadata": {},
   "outputs": [
    {
     "data": {
      "text/plain": [
       "array([[329,  41],\n",
       "       [ 96, 110]])"
      ]
     },
     "execution_count": 21,
     "metadata": {},
     "output_type": "execute_result"
    }
   ],
   "source": [
    "cnf_matrix"
   ]
  },
  {
   "cell_type": "code",
   "execution_count": 22,
   "id": "5089a97f",
   "metadata": {},
   "outputs": [],
   "source": [
    "from sklearn.metrics import classification_report"
   ]
  },
  {
   "cell_type": "code",
   "execution_count": 23,
   "id": "e5bb81bb",
   "metadata": {},
   "outputs": [],
   "source": [
    "target_names = ['without_diabetes', 'with_diabetes']"
   ]
  },
  {
   "cell_type": "code",
   "execution_count": 24,
   "id": "5bc206cb",
   "metadata": {},
   "outputs": [
    {
     "name": "stdout",
     "output_type": "stream",
     "text": [
      "                  precision    recall  f1-score   support\n",
      "\n",
      "without_diabetes       0.77      0.89      0.83       370\n",
      "   with_diabetes       0.73      0.53      0.62       206\n",
      "\n",
      "        accuracy                           0.76       576\n",
      "       macro avg       0.75      0.71      0.72       576\n",
      "    weighted avg       0.76      0.76      0.75       576\n",
      "\n"
     ]
    }
   ],
   "source": [
    "print(classification_report(Y_test, Y_pred, target_names = target_names))"
   ]
  },
  {
   "cell_type": "code",
   "execution_count": 25,
   "id": "1faed0ba",
   "metadata": {},
   "outputs": [],
   "source": [
    "# drawing the ROC curve\n",
    "\n",
    "y_pred_probabilities = logreg.predict_proba(X_test)[::,1]"
   ]
  },
  {
   "cell_type": "code",
   "execution_count": 26,
   "id": "e07b601f",
   "metadata": {},
   "outputs": [],
   "source": [
    "fpr, tpr, _ = metrics.roc_curve(Y_test, y_pred_probabilities)"
   ]
  },
  {
   "cell_type": "code",
   "execution_count": 27,
   "id": "5d42df96",
   "metadata": {},
   "outputs": [],
   "source": [
    "auc = metrics.roc_auc_score(Y_test, y_pred_probabilities)"
   ]
  },
  {
   "cell_type": "code",
   "execution_count": 29,
   "id": "de4d8dd0",
   "metadata": {},
   "outputs": [
    {
     "data": {
      "image/png": "[encoded data removed]",
      "text/plain": [
       "<Figure size 640x480 with 1 Axes>"
      ]
     },
     "metadata": {},
     "output_type": "display_data"
    }
   ],
   "source": [
    "plt.plot(fpr, tpr, label = f\"data 1, auc = {auc}\")\n",
    "plt.legend(loc = 4)\n",
    "plt.show()"
   ]
  },
  {
   "cell_type": "code",
   "execution_count": null,
   "id": "7802fe16",
   "metadata": {},
   "outputs": [],
   "source": []
  }
 ],
 "metadata": {
  "kernelspec": {
   "display_name": "Python 3 (ipykernel)",
   "language": "python",
   "name": "python3"
  },
  "language_info": {
   "codemirror_mode": {
    "name": "ipython",
    "version": 3
   },
   "file_extension": ".py",
   "mimetype": "text/x-python",
   "name": "python",
   "nbconvert_exporter": "python",
   "pygments_lexer": "ipython3",
   "version": "3.9.6"
  }
 },
 "nbformat": 4,
 "nbformat_minor": 5
}
