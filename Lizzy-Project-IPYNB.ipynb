{
 "cells": [
  {
   "cell_type": "code",
   "execution_count": 1,
   "id": "ceb1c46b",
   "metadata": {},
   "outputs": [],
   "source": [
    "import pandas as pd\n",
    "import numpy as np\n",
    "\n",
    "from pathlib import Path\n",
    "\n",
    "pd.set_option('display.max_columns', None)\n",
    "pd.set_option('display.max_rows', None)"
   ]
  },
  {
   "cell_type": "code",
   "execution_count": 2,
   "id": "bdb89f5f",
   "metadata": {},
   "outputs": [],
   "source": [
    "dataset_path = Path().absolute() / \"Data\""
   ]
  },
  {
   "cell_type": "code",
   "execution_count": 3,
   "id": "dfc9f1b1",
   "metadata": {},
   "outputs": [],
   "source": [
    "# Reading in the dataset\n",
    "\n",
    "def read_dataset(path: Path, filename: str) -> pd.DataFrame:\n",
    "    \n",
    "    \"\"\"Reading in the provided dataset as a pandas dataframe.\"\"\"\n",
    "    \n",
    "    dataframe = pd.read_excel(path / filename)\n",
    "    \n",
    "    dataframe.columns = dataframe.columns.str.lower().str.replace(' ', '_')\n",
    "    \n",
    "    return dataframe"
   ]
  },
  {
   "cell_type": "code",
   "execution_count": 4,
   "id": "76d7bc19",
   "metadata": {},
   "outputs": [],
   "source": [
    "kickstarter_df = read_dataset(dataset_path, \"Kickstarter.xlsx\")"
   ]
  },
  {
   "cell_type": "code",
   "execution_count": 5,
   "id": "8ed794b6",
   "metadata": {},
   "outputs": [],
   "source": [
    "# Casting types properly\n",
    "\n",
    "def validate_dtypes(type_dict: dict, df: pd.DataFrame) -> pd.DataFrame:\n",
    "    \n",
    "    return df.astype(type_dict)"
   ]
  },
  {
   "cell_type": "code",
   "execution_count": 6,
   "id": "9f472b73",
   "metadata": {},
   "outputs": [],
   "source": [
    "kickstarter_data_types_conversion: dict[str, str] = {\n",
    "    \"id\": \"int64\",\n",
    "    \"name\": \"string\",\n",
    "    \"goal\": \"float64\",\n",
    "    \"pledged\": \"float64\",\n",
    "    \"state\": \"category\",\n",
    "    \"disable_communication\": \"bool\",\n",
    "    \"country\": \"string\",\n",
    "    \"currency\": \"string\",\n",
    "    \"deadline\": \"datetime64[ns]\",\n",
    "    \"state_changed_at\": \"datetime64[ns]\",\n",
    "    \"created_at\": \"datetime64[ns]\",\n",
    "    \"launched_at\": \"datetime64[ns]\",\n",
    "    \"staff_pick\": \"bool\",\n",
    "    \"backers_count\": \"int64\",\n",
    "    \"static_usd_rate\": \"float64\",\n",
    "    \"usd_pledged\": \"float64\",\n",
    "    \"category\": \"category\",\n",
    "    \"spotlight\": \"bool\",\n",
    "    \"name_len\": \"float64\",\n",
    "    \"name_len_clean\": \"float64\",\n",
    "    \"blurb_len\": \"float64\",\n",
    "    \"blurb_len_clean\": \"float64\",\n",
    "    \"deadline_weekday\": \"string\",\n",
    "    \"state_changed_at_weekday\": \"string\",\n",
    "    \"created_at_weekday\": \"string\",\n",
    "    \"launched_at_weekday\": \"string\",\n",
    "    \"deadline_month\": \"int64\",\n",
    "    \"deadline_day\": \"int64\",\n",
    "    \"deadline_yr\": \"int64\",\n",
    "    \"deadline_hr\": \"int64\",\n",
    "    \"state_changed_at_month\": \"int64\",\n",
    "    \"state_changed_at_day\": \"int64\",\n",
    "    \"state_changed_at_yr\": \"int64\",\n",
    "    \"state_changed_at_hr\": \"int64\",\n",
    "    \"created_at_month\": \"int64\",\n",
    "    \"created_at_day\": \"int64\",\n",
    "    \"created_at_yr\": \"int64\",\n",
    "    \"created_at_hr\": \"int64\",\n",
    "    \"launched_at_month\": \"int64\",\n",
    "    \"launched_at_day\": \"int64\",\n",
    "    \"launched_at_yr\": \"int64\",\n",
    "    \"launched_at_hr\": \"int64\",\n",
    "    \"create_to_launch_days\": \"int64\",\n",
    "    \"launch_to_deadline_days\": \"int64\",\n",
    "    \"launch_to_state_change_days\": \"int64\"\n",
    "}"
   ]
  },
  {
   "cell_type": "code",
   "execution_count": 7,
   "id": "a87cec55",
   "metadata": {},
   "outputs": [],
   "source": [
    "kickstarter_df = validate_dtypes(kickstarter_data_types_conversion, kickstarter_df)"
   ]
  },
  {
   "cell_type": "code",
   "execution_count": 8,
   "id": "a95471a9",
   "metadata": {},
   "outputs": [
    {
     "data": {
      "text/plain": [
       "(15474, 45)"
      ]
     },
     "execution_count": 8,
     "metadata": {},
     "output_type": "execute_result"
    }
   ],
   "source": [
    "kickstarter_df.shape"
   ]
  },
  {
   "cell_type": "code",
   "execution_count": 9,
   "id": "9dafd30e",
   "metadata": {},
   "outputs": [],
   "source": [
    "# REMOVING ANY ATTRIBUTES THAT WERE NOT AVAILABLE AT THE MOMENT THE PROJECT WAS LAUNCHED\n",
    "\n",
    "kickstarter_df.drop(['id', 'pledged', 'disable_communication', 'state_changed_at', 'staff_pick', 'backers_count', 'static_usd_rate', 'usd_pledged', 'spotlight', 'state_changed_at_weekday', 'state_changed_at_month', 'state_changed_at_day', 'state_changed_at_yr', 'state_changed_at_hr', 'launch_to_state_change_days'], axis = 1, inplace = True)"
   ]
  },
  {
   "cell_type": "code",
   "execution_count": 10,
   "id": "e8aac5de",
   "metadata": {},
   "outputs": [],
   "source": [
    "# dropping this since the last columns capture the time relationship better. not productive to have time-series data \n",
    "kickstarter_df.drop(['deadline','created_at', 'launched_at'], axis = 1, inplace = True)"
   ]
  },
  {
   "cell_type": "code",
   "execution_count": 11,
   "id": "6d1c04e5",
   "metadata": {},
   "outputs": [],
   "source": [
    "# Only Including Observations where the variable 'state' takes the value 'successful' or 'failure'\n",
    "kickstarter_df = kickstarter_df[(kickstarter_df['state'] == 'successful') | (kickstarter_df['state'] == 'failed')]"
   ]
  },
  {
   "cell_type": "code",
   "execution_count": 12,
   "id": "5be3c0e7",
   "metadata": {},
   "outputs": [],
   "source": [
    "kickstarter_df.reset_index(drop = True, inplace = True)"
   ]
  },
  {
   "cell_type": "code",
   "execution_count": 14,
   "id": "f4182bd2",
   "metadata": {},
   "outputs": [],
   "source": [
    "kickstarter_df.rename(columns = {\"launch_to_deadline_days\": \"campaign_length_days\"}, inplace = True)"
   ]
  },
  {
   "cell_type": "code",
   "execution_count": 15,
   "id": "a44ba4b6",
   "metadata": {
    "scrolled": true
   },
   "outputs": [
    {
     "data": {
      "text/plain": [
       "(13435, 27)"
      ]
     },
     "execution_count": 15,
     "metadata": {},
     "output_type": "execute_result"
    }
   ],
   "source": [
    "kickstarter_df.shape"
   ]
  },
  {
   "cell_type": "code",
   "execution_count": null,
   "id": "d6a86aa0",
   "metadata": {},
   "outputs": [],
   "source": []
  },
  {
   "cell_type": "markdown",
   "id": "58e72f79",
   "metadata": {},
   "source": [
    "## Pre-Processing"
   ]
  },
  {
   "cell_type": "code",
   "execution_count": 16,
   "id": "75ae2007",
   "metadata": {},
   "outputs": [],
   "source": [
    "from sklearn.model_selection import train_test_split\n",
    "from sklearn.preprocessing import LabelEncoder\n",
    "from sklearn.ensemble import RandomForestClassifier, GradientBoostingClassifier\n",
    "from sklearn.metrics import classification_report"
   ]
  },
  {
   "cell_type": "code",
   "execution_count": 17,
   "id": "795604d8",
   "metadata": {},
   "outputs": [],
   "source": [
    "label_encoders = {}"
   ]
  },
  {
   "cell_type": "code",
   "execution_count": 18,
   "id": "940fdc32",
   "metadata": {},
   "outputs": [],
   "source": [
    "for col in kickstarter_df.select_dtypes(include = ['string', 'category']).columns:\n",
    "    \n",
    "    if col != 'state':\n",
    "        le = LabelEncoder()\n",
    "        kickstarter_df[col] = le.fit_transform(kickstarter_df[col].astype(str))\n",
    "        label_encoders[col] = le"
   ]
  },
  {
   "cell_type": "markdown",
   "id": "0dba2101",
   "metadata": {},
   "source": [
    "## Separating Predictors and Target"
   ]
  },
  {
   "cell_type": "code",
   "execution_count": 19,
   "id": "d279f84b",
   "metadata": {},
   "outputs": [],
   "source": [
    "X = kickstarter_df.drop('state', axis = 1)"
   ]
  },
  {
   "cell_type": "code",
   "execution_count": 20,
   "id": "b254e5e7",
   "metadata": {},
   "outputs": [],
   "source": [
    "Y = kickstarter_df['state'].apply(lambda x: 0 if x == 'failed' else 1)"
   ]
  },
  {
   "cell_type": "markdown",
   "id": "6ec56e10",
   "metadata": {},
   "source": [
    "## Train-Test Split"
   ]
  },
  {
   "cell_type": "code",
   "execution_count": 21,
   "id": "1c83a6fc",
   "metadata": {},
   "outputs": [],
   "source": [
    "X_train, X_test, Y_train, Y_test = train_test_split(X, Y, test_size = 0.3, random_state = 42)"
   ]
  },
  {
   "cell_type": "markdown",
   "id": "25dc9fc7",
   "metadata": {},
   "source": [
    "## Random-Forest Classifier Setup"
   ]
  },
  {
   "cell_type": "code",
   "execution_count": 22,
   "id": "4921a915",
   "metadata": {},
   "outputs": [],
   "source": [
    "randomForestClassifier = RandomForestClassifier(random_state = 42)"
   ]
  },
  {
   "cell_type": "code",
   "execution_count": 23,
   "id": "42cb44c9",
   "metadata": {},
   "outputs": [
    {
     "data": {
      "text/html": [
       "<style>#sk-container-id-1 {color: black;background-color: white;}#sk-container-id-1 pre{padding: 0;}#sk-container-id-1 div.sk-toggleable {background-color: white;}#sk-container-id-1 label.sk-toggleable__label {cursor: pointer;display: block;width: 100%;margin-bottom: 0;padding: 0.3em;box-sizing: border-box;text-align: center;}#sk-container-id-1 label.sk-toggleable__label-arrow:before {content: \"▸\";float: left;margin-right: 0.25em;color: #696969;}#sk-container-id-1 label.sk-toggleable__label-arrow:hover:before {color: black;}#sk-container-id-1 div.sk-estimator:hover label.sk-toggleable__label-arrow:before {color: black;}#sk-container-id-1 div.sk-toggleable__content {max-height: 0;max-width: 0;overflow: hidden;text-align: left;background-color: #f0f8ff;}#sk-container-id-1 div.sk-toggleable__content pre {margin: 0.2em;color: black;border-radius: 0.25em;background-color: #f0f8ff;}#sk-container-id-1 input.sk-toggleable__control:checked~div.sk-toggleable__content {max-height: 200px;max-width: 100%;overflow: auto;}#sk-container-id-1 input.sk-toggleable__control:checked~label.sk-toggleable__label-arrow:before {content: \"▾\";}#sk-container-id-1 div.sk-estimator input.sk-toggleable__control:checked~label.sk-toggleable__label {background-color: #d4ebff;}#sk-container-id-1 div.sk-label input.sk-toggleable__control:checked~label.sk-toggleable__label {background-color: #d4ebff;}#sk-container-id-1 input.sk-hidden--visually {border: 0;clip: rect(1px 1px 1px 1px);clip: rect(1px, 1px, 1px, 1px);height: 1px;margin: -1px;overflow: hidden;padding: 0;position: absolute;width: 1px;}#sk-container-id-1 div.sk-estimator {font-family: monospace;background-color: #f0f8ff;border: 1px dotted black;border-radius: 0.25em;box-sizing: border-box;margin-bottom: 0.5em;}#sk-container-id-1 div.sk-estimator:hover {background-color: #d4ebff;}#sk-container-id-1 div.sk-parallel-item::after {content: \"\";width: 100%;border-bottom: 1px solid gray;flex-grow: 1;}#sk-container-id-1 div.sk-label:hover label.sk-toggleable__label {background-color: #d4ebff;}#sk-container-id-1 div.sk-serial::before {content: \"\";position: absolute;border-left: 1px solid gray;box-sizing: border-box;top: 0;bottom: 0;left: 50%;z-index: 0;}#sk-container-id-1 div.sk-serial {display: flex;flex-direction: column;align-items: center;background-color: white;padding-right: 0.2em;padding-left: 0.2em;position: relative;}#sk-container-id-1 div.sk-item {position: relative;z-index: 1;}#sk-container-id-1 div.sk-parallel {display: flex;align-items: stretch;justify-content: center;background-color: white;position: relative;}#sk-container-id-1 div.sk-item::before, #sk-container-id-1 div.sk-parallel-item::before {content: \"\";position: absolute;border-left: 1px solid gray;box-sizing: border-box;top: 0;bottom: 0;left: 50%;z-index: -1;}#sk-container-id-1 div.sk-parallel-item {display: flex;flex-direction: column;z-index: 1;position: relative;background-color: white;}#sk-container-id-1 div.sk-parallel-item:first-child::after {align-self: flex-end;width: 50%;}#sk-container-id-1 div.sk-parallel-item:last-child::after {align-self: flex-start;width: 50%;}#sk-container-id-1 div.sk-parallel-item:only-child::after {width: 0;}#sk-container-id-1 div.sk-dashed-wrapped {border: 1px dashed gray;margin: 0 0.4em 0.5em 0.4em;box-sizing: border-box;padding-bottom: 0.4em;background-color: white;}#sk-container-id-1 div.sk-label label {font-family: monospace;font-weight: bold;display: inline-block;line-height: 1.2em;}#sk-container-id-1 div.sk-label-container {text-align: center;}#sk-container-id-1 div.sk-container {/* jupyter's `normalize.less` sets `[hidden] { display: none; }` but bootstrap.min.css set `[hidden] { display: none !important; }` so we also need the `!important` here to be able to override the default hidden behavior on the sphinx rendered scikit-learn.org. See: https://github.com/scikit-learn/scikit-learn/issues/21755 */display: inline-block !important;position: relative;}#sk-container-id-1 div.sk-text-repr-fallback {display: none;}</style><div id=\"sk-container-id-1\" class=\"sk-top-container\"><div class=\"sk-text-repr-fallback\"><pre>RandomForestClassifier(random_state=42)</pre><b>In a Jupyter environment, please rerun this cell to show the HTML representation or trust the notebook. <br />On GitHub, the HTML representation is unable to render, please try loading this page with nbviewer.org.</b></div><div class=\"sk-container\" hidden><div class=\"sk-item\"><div class=\"sk-estimator sk-toggleable\"><input class=\"sk-toggleable__control sk-hidden--visually\" id=\"sk-estimator-id-1\" type=\"checkbox\" checked><label for=\"sk-estimator-id-1\" class=\"sk-toggleable__label sk-toggleable__label-arrow\">RandomForestClassifier</label><div class=\"sk-toggleable__content\"><pre>RandomForestClassifier(random_state=42)</pre></div></div></div></div></div>"
      ],
      "text/plain": [
       "RandomForestClassifier(random_state=42)"
      ]
     },
     "execution_count": 23,
     "metadata": {},
     "output_type": "execute_result"
    }
   ],
   "source": [
    "randomForestClassifier.fit(X_train, Y_train)"
   ]
  },
  {
   "cell_type": "code",
   "execution_count": 24,
   "id": "f4f787c1",
   "metadata": {},
   "outputs": [],
   "source": [
    "randomForestPredictions = randomForestClassifier.predict(X_test)"
   ]
  },
  {
   "cell_type": "code",
   "execution_count": 25,
   "id": "d6071bf7",
   "metadata": {},
   "outputs": [],
   "source": [
    "rf_report = classification_report(Y_test, randomForestPredictions)"
   ]
  },
  {
   "cell_type": "code",
   "execution_count": 26,
   "id": "91b46282",
   "metadata": {},
   "outputs": [
    {
     "name": "stdout",
     "output_type": "stream",
     "text": [
      "              precision    recall  f1-score   support\n",
      "\n",
      "           0       0.75      0.89      0.82      2652\n",
      "           1       0.68      0.44      0.53      1379\n",
      "\n",
      "    accuracy                           0.74      4031\n",
      "   macro avg       0.72      0.66      0.67      4031\n",
      "weighted avg       0.73      0.74      0.72      4031\n",
      "\n"
     ]
    }
   ],
   "source": [
    "print(rf_report)"
   ]
  },
  {
   "cell_type": "code",
   "execution_count": 27,
   "id": "f0fc2f89",
   "metadata": {},
   "outputs": [],
   "source": [
    "from sklearn.metrics import accuracy_score"
   ]
  },
  {
   "cell_type": "code",
   "execution_count": 28,
   "id": "df7dffac",
   "metadata": {},
   "outputs": [
    {
     "name": "stdout",
     "output_type": "stream",
     "text": [
      "73.70379558422228\n"
     ]
    }
   ],
   "source": [
    "print(accuracy_score(Y_test, randomForestPredictions) * 100)"
   ]
  },
  {
   "cell_type": "markdown",
   "id": "d2178da8",
   "metadata": {},
   "source": [
    "## Gradient Boosting Classifier Setup"
   ]
  },
  {
   "cell_type": "code",
   "execution_count": 29,
   "id": "754bde68",
   "metadata": {},
   "outputs": [],
   "source": [
    "gb_classifier = GradientBoostingClassifier(random_state = 42)"
   ]
  },
  {
   "cell_type": "code",
   "execution_count": 30,
   "id": "8d5461a2",
   "metadata": {},
   "outputs": [
    {
     "data": {
      "text/html": [
       "<style>#sk-container-id-2 {color: black;background-color: white;}#sk-container-id-2 pre{padding: 0;}#sk-container-id-2 div.sk-toggleable {background-color: white;}#sk-container-id-2 label.sk-toggleable__label {cursor: pointer;display: block;width: 100%;margin-bottom: 0;padding: 0.3em;box-sizing: border-box;text-align: center;}#sk-container-id-2 label.sk-toggleable__label-arrow:before {content: \"▸\";float: left;margin-right: 0.25em;color: #696969;}#sk-container-id-2 label.sk-toggleable__label-arrow:hover:before {color: black;}#sk-container-id-2 div.sk-estimator:hover label.sk-toggleable__label-arrow:before {color: black;}#sk-container-id-2 div.sk-toggleable__content {max-height: 0;max-width: 0;overflow: hidden;text-align: left;background-color: #f0f8ff;}#sk-container-id-2 div.sk-toggleable__content pre {margin: 0.2em;color: black;border-radius: 0.25em;background-color: #f0f8ff;}#sk-container-id-2 input.sk-toggleable__control:checked~div.sk-toggleable__content {max-height: 200px;max-width: 100%;overflow: auto;}#sk-container-id-2 input.sk-toggleable__control:checked~label.sk-toggleable__label-arrow:before {content: \"▾\";}#sk-container-id-2 div.sk-estimator input.sk-toggleable__control:checked~label.sk-toggleable__label {background-color: #d4ebff;}#sk-container-id-2 div.sk-label input.sk-toggleable__control:checked~label.sk-toggleable__label {background-color: #d4ebff;}#sk-container-id-2 input.sk-hidden--visually {border: 0;clip: rect(1px 1px 1px 1px);clip: rect(1px, 1px, 1px, 1px);height: 1px;margin: -1px;overflow: hidden;padding: 0;position: absolute;width: 1px;}#sk-container-id-2 div.sk-estimator {font-family: monospace;background-color: #f0f8ff;border: 1px dotted black;border-radius: 0.25em;box-sizing: border-box;margin-bottom: 0.5em;}#sk-container-id-2 div.sk-estimator:hover {background-color: #d4ebff;}#sk-container-id-2 div.sk-parallel-item::after {content: \"\";width: 100%;border-bottom: 1px solid gray;flex-grow: 1;}#sk-container-id-2 div.sk-label:hover label.sk-toggleable__label {background-color: #d4ebff;}#sk-container-id-2 div.sk-serial::before {content: \"\";position: absolute;border-left: 1px solid gray;box-sizing: border-box;top: 0;bottom: 0;left: 50%;z-index: 0;}#sk-container-id-2 div.sk-serial {display: flex;flex-direction: column;align-items: center;background-color: white;padding-right: 0.2em;padding-left: 0.2em;position: relative;}#sk-container-id-2 div.sk-item {position: relative;z-index: 1;}#sk-container-id-2 div.sk-parallel {display: flex;align-items: stretch;justify-content: center;background-color: white;position: relative;}#sk-container-id-2 div.sk-item::before, #sk-container-id-2 div.sk-parallel-item::before {content: \"\";position: absolute;border-left: 1px solid gray;box-sizing: border-box;top: 0;bottom: 0;left: 50%;z-index: -1;}#sk-container-id-2 div.sk-parallel-item {display: flex;flex-direction: column;z-index: 1;position: relative;background-color: white;}#sk-container-id-2 div.sk-parallel-item:first-child::after {align-self: flex-end;width: 50%;}#sk-container-id-2 div.sk-parallel-item:last-child::after {align-self: flex-start;width: 50%;}#sk-container-id-2 div.sk-parallel-item:only-child::after {width: 0;}#sk-container-id-2 div.sk-dashed-wrapped {border: 1px dashed gray;margin: 0 0.4em 0.5em 0.4em;box-sizing: border-box;padding-bottom: 0.4em;background-color: white;}#sk-container-id-2 div.sk-label label {font-family: monospace;font-weight: bold;display: inline-block;line-height: 1.2em;}#sk-container-id-2 div.sk-label-container {text-align: center;}#sk-container-id-2 div.sk-container {/* jupyter's `normalize.less` sets `[hidden] { display: none; }` but bootstrap.min.css set `[hidden] { display: none !important; }` so we also need the `!important` here to be able to override the default hidden behavior on the sphinx rendered scikit-learn.org. See: https://github.com/scikit-learn/scikit-learn/issues/21755 */display: inline-block !important;position: relative;}#sk-container-id-2 div.sk-text-repr-fallback {display: none;}</style><div id=\"sk-container-id-2\" class=\"sk-top-container\"><div class=\"sk-text-repr-fallback\"><pre>GradientBoostingClassifier(random_state=42)</pre><b>In a Jupyter environment, please rerun this cell to show the HTML representation or trust the notebook. <br />On GitHub, the HTML representation is unable to render, please try loading this page with nbviewer.org.</b></div><div class=\"sk-container\" hidden><div class=\"sk-item\"><div class=\"sk-estimator sk-toggleable\"><input class=\"sk-toggleable__control sk-hidden--visually\" id=\"sk-estimator-id-2\" type=\"checkbox\" checked><label for=\"sk-estimator-id-2\" class=\"sk-toggleable__label sk-toggleable__label-arrow\">GradientBoostingClassifier</label><div class=\"sk-toggleable__content\"><pre>GradientBoostingClassifier(random_state=42)</pre></div></div></div></div></div>"
      ],
      "text/plain": [
       "GradientBoostingClassifier(random_state=42)"
      ]
     },
     "execution_count": 30,
     "metadata": {},
     "output_type": "execute_result"
    }
   ],
   "source": [
    "gb_classifier.fit(X_train, Y_train)"
   ]
  },
  {
   "cell_type": "code",
   "execution_count": 31,
   "id": "15ce6ad2",
   "metadata": {},
   "outputs": [],
   "source": [
    "Y_pred_gb = gb_classifier.predict(X_test)"
   ]
  },
  {
   "cell_type": "code",
   "execution_count": 32,
   "id": "daaee069",
   "metadata": {},
   "outputs": [],
   "source": [
    "gb_report = classification_report(Y_test, Y_pred_gb)"
   ]
  },
  {
   "cell_type": "code",
   "execution_count": 33,
   "id": "a4f68869",
   "metadata": {},
   "outputs": [
    {
     "name": "stdout",
     "output_type": "stream",
     "text": [
      "              precision    recall  f1-score   support\n",
      "\n",
      "           0       0.77      0.87      0.82      2652\n",
      "           1       0.67      0.50      0.57      1379\n",
      "\n",
      "    accuracy                           0.74      4031\n",
      "   macro avg       0.72      0.69      0.69      4031\n",
      "weighted avg       0.73      0.74      0.73      4031\n",
      "\n"
     ]
    }
   ],
   "source": [
    "print(gb_report)"
   ]
  },
  {
   "cell_type": "code",
   "execution_count": 34,
   "id": "a3d7b3b8",
   "metadata": {},
   "outputs": [
    {
     "data": {
      "text/plain": [
       "74.32398908459439"
      ]
     },
     "execution_count": 34,
     "metadata": {},
     "output_type": "execute_result"
    }
   ],
   "source": [
    "accuracy_score(Y_test, Y_pred_gb) * 100"
   ]
  },
  {
   "cell_type": "raw",
   "id": "80f09a3c",
   "metadata": {},
   "source": []
  },
  {
   "cell_type": "code",
   "execution_count": null,
   "id": "3474dd63",
   "metadata": {},
   "outputs": [],
   "source": []
  }
 ],
 "metadata": {
  "kernelspec": {
   "display_name": "Python 3 (ipykernel)",
   "language": "python",
   "name": "python3"
  },
  "language_info": {
   "codemirror_mode": {
    "name": "ipython",
    "version": 3
   },
   "file_extension": ".py",
   "mimetype": "text/x-python",
   "name": "python",
   "nbconvert_exporter": "python",
   "pygments_lexer": "ipython3",
   "version": "3.9.6"
  }
 },
 "nbformat": 4,
 "nbformat_minor": 5
}
