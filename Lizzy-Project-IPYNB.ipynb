{
 "cells": [
  {
   "cell_type": "code",
   "execution_count": 1,
   "id": "ceb1c46b",
   "metadata": {},
   "outputs": [],
   "source": [
    "import pandas as pd\n",
    "import numpy as np\n",
    "\n",
    "from pathlib import Path\n",
    "\n",
    "pd.set_option('display.max_columns', None)\n",
    "pd.set_option('display.max_rows', None)"
   ]
  },
  {
   "cell_type": "code",
   "execution_count": 4,
   "id": "bdb89f5f",
   "metadata": {},
   "outputs": [],
   "source": [
    "dataset_path = Path().absolute() / \"Data\""
   ]
  },
  {
   "cell_type": "code",
   "execution_count": 5,
   "id": "dfc9f1b1",
   "metadata": {},
   "outputs": [],
   "source": [
    "# Reading in the dataset\n",
    "\n",
    "def read_dataset(path: Path, filename: str) -> pd.DataFrame:\n",
    "    \n",
    "    \"\"\"Reading in the provided dataset as a pandas dataframe.\"\"\"\n",
    "    \n",
    "    dataframe = pd.read_excel(path / filename)\n",
    "    \n",
    "    dataframe.columns = dataframe.columns.str.lower().str.replace(' ', '_')\n",
    "    \n",
    "    return dataframe"
   ]
  },
  {
   "cell_type": "code",
   "execution_count": 6,
   "id": "76d7bc19",
   "metadata": {},
   "outputs": [],
   "source": [
    "kickstarter_df = read_dataset(dataset_path, \"Kickstarter.xlsx\")"
   ]
  },
  {
   "cell_type": "code",
   "execution_count": 7,
   "id": "8ed794b6",
   "metadata": {},
   "outputs": [],
   "source": [
    "# Casting types properly\n",
    "\n",
    "def validate_dtypes(type_dict: dict, df: pd.DataFrame) -> pd.DataFrame:\n",
    "    \n",
    "    return df.astype(type_dict)"
   ]
  },
  {
   "cell_type": "code",
   "execution_count": 8,
   "id": "9f472b73",
   "metadata": {},
   "outputs": [],
   "source": [
    "kickstarter_data_types_conversion: dict[str, str] = {\n",
    "    \"id\": \"int64\",\n",
    "    \"name\": \"string\",\n",
    "    \"goal\": \"float64\",\n",
    "    \"pledged\": \"float64\",\n",
    "    \"state\": \"category\",\n",
    "    \"disable_communication\": \"bool\",\n",
    "    \"country\": \"string\",\n",
    "    \"currency\": \"string\",\n",
    "    \"deadline\": \"datetime64[ns]\",\n",
    "    \"state_changed_at\": \"datetime64[ns]\",\n",
    "    \"created_at\": \"datetime64[ns]\",\n",
    "    \"launched_at\": \"datetime64[ns]\",\n",
    "    \"staff_pick\": \"bool\",\n",
    "    \"backers_count\": \"int64\",\n",
    "    \"static_usd_rate\": \"float64\",\n",
    "    \"usd_pledged\": \"float64\",\n",
    "    \"category\": \"category\",\n",
    "    \"spotlight\": \"bool\",\n",
    "    \"name_len\": \"float64\",\n",
    "    \"name_len_clean\": \"float64\",\n",
    "    \"blurb_len\": \"float64\",\n",
    "    \"blurb_len_clean\": \"float64\",\n",
    "    \"deadline_weekday\": \"string\",\n",
    "    \"state_changed_at_weekday\": \"string\",\n",
    "    \"created_at_weekday\": \"string\",\n",
    "    \"launched_at_weekday\": \"string\",\n",
    "    \"deadline_month\": \"int64\",\n",
    "    \"deadline_day\": \"int64\",\n",
    "    \"deadline_yr\": \"int64\",\n",
    "    \"deadline_hr\": \"int64\",\n",
    "    \"state_changed_at_month\": \"int64\",\n",
    "    \"state_changed_at_day\": \"int64\",\n",
    "    \"state_changed_at_yr\": \"int64\",\n",
    "    \"state_changed_at_hr\": \"int64\",\n",
    "    \"created_at_month\": \"int64\",\n",
    "    \"created_at_day\": \"int64\",\n",
    "    \"created_at_yr\": \"int64\",\n",
    "    \"created_at_hr\": \"int64\",\n",
    "    \"launched_at_month\": \"int64\",\n",
    "    \"launched_at_day\": \"int64\",\n",
    "    \"launched_at_yr\": \"int64\",\n",
    "    \"launched_at_hr\": \"int64\",\n",
    "    \"create_to_launch_days\": \"int64\",\n",
    "    \"launch_to_deadline_days\": \"int64\",\n",
    "    \"launch_to_state_change_days\": \"int64\"\n",
    "}"
   ]
  },
  {
   "cell_type": "code",
   "execution_count": 9,
   "id": "a87cec55",
   "metadata": {},
   "outputs": [],
   "source": [
    "kickstarter_df = validate_dtypes(kickstarter_data_types_conversion, kickstarter_df)"
   ]
  },
  {
   "cell_type": "code",
   "execution_count": 12,
   "id": "9dafd30e",
   "metadata": {},
   "outputs": [],
   "source": [
    "# REMOVING ANY ATTRIBUTES THAT WERE NOT AVAILABLE AT THE MOMENT THE PROJECT WAS LAUNCHED\n",
    "\n",
    "kickstarter_df.drop(['id', 'pledged', 'disable_communication', 'state_changed_at', 'staff_pick', 'backers_count', 'static_usd_rate', 'usd_pledged', 'spotlight', 'state_changed_at_weekday', 'state_changed_at_month', 'state_changed_at_day', 'state_changed_at_yr', 'state_changed_at_hr', 'launch_to_state_change_days'], axis = 1, inplace = True)"
   ]
  },
  {
   "cell_type": "code",
   "execution_count": 16,
   "id": "6d1c04e5",
   "metadata": {},
   "outputs": [],
   "source": [
    "# Only Including Observations where the variable 'state' takes the value 'successful' or 'failure'\n",
    "kickstarter_df = kickstarter_df[(kickstarter_df['state'] == 'successful') | (kickstarter_df['state'] == 'failed')]"
   ]
  },
  {
   "cell_type": "code",
   "execution_count": 22,
   "id": "5be3c0e7",
   "metadata": {},
   "outputs": [],
   "source": [
    "kickstarter_df.reset_index(drop = True, inplace = True)"
   ]
  },
  {
   "cell_type": "code",
   "execution_count": 24,
   "id": "2b54f3a9",
   "metadata": {},
   "outputs": [
    {
     "name": "stdout",
     "output_type": "stream",
     "text": [
      "name                          1\n",
      "goal                          0\n",
      "state                         0\n",
      "country                       0\n",
      "currency                      0\n",
      "deadline                      0\n",
      "created_at                    0\n",
      "launched_at                   0\n",
      "category                   1254\n",
      "name_len                      0\n",
      "name_len_clean                0\n",
      "blurb_len                     0\n",
      "blurb_len_clean               0\n",
      "deadline_weekday              0\n",
      "created_at_weekday            0\n",
      "launched_at_weekday           0\n",
      "deadline_month                0\n",
      "deadline_day                  0\n",
      "deadline_yr                   0\n",
      "deadline_hr                   0\n",
      "created_at_month              0\n",
      "created_at_day                0\n",
      "created_at_yr                 0\n",
      "created_at_hr                 0\n",
      "launched_at_month             0\n",
      "launched_at_day               0\n",
      "launched_at_yr                0\n",
      "launched_at_hr                0\n",
      "create_to_launch_days         0\n",
      "launch_to_deadline_days       0\n",
      "dtype: int64\n"
     ]
    }
   ],
   "source": [
    "# Checking for Missing Values\n",
    "\n",
    "missing_values = kickstarter_df.isnull().sum()\n",
    "\n",
    "print(missing_values)\n"
   ]
  },
  {
   "cell_type": "code",
   "execution_count": null,
   "id": "29f1589e",
   "metadata": {},
   "outputs": [],
   "source": []
  }
 ],
 "metadata": {
  "kernelspec": {
   "display_name": "Python 3 (ipykernel)",
   "language": "python",
   "name": "python3"
  },
  "language_info": {
   "codemirror_mode": {
    "name": "ipython",
    "version": 3
   },
   "file_extension": ".py",
   "mimetype": "text/x-python",
   "name": "python",
   "nbconvert_exporter": "python",
   "pygments_lexer": "ipython3",
   "version": "3.9.6"
  }
 },
 "nbformat": 4,
 "nbformat_minor": 5
}
